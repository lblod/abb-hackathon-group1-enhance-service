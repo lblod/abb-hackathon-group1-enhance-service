{
 "cells": [
  {
   "cell_type": "code",
   "execution_count": null,
   "id": "98eeb398-c1ed-4aa5-b1a4-284370eb7f9e",
   "metadata": {},
   "outputs": [],
   "source": [
    "import requests\n",
    "import pprint"
   ]
  },
  {
   "cell_type": "code",
   "execution_count": null,
   "id": "20df895f-3951-4a2f-8b6e-3d61339d121d",
   "metadata": {},
   "outputs": [],
   "source": []
  },
  {
   "cell_type": "code",
   "execution_count": null,
   "id": "e982774a-3a45-4f0a-8255-df1dcc8d2036",
   "metadata": {},
   "outputs": [],
   "source": [
    "pprint.pprint(get_heritage_object(38746).json(), indent=2, sort_dicts=True)"
   ]
  }
 ],
 "metadata": {
  "kernelspec": {
   "display_name": "Python 3 (ipykernel)",
   "language": "python",
   "name": "python3"
  },
  "language_info": {
   "codemirror_mode": {
    "name": "ipython",
    "version": 3
   },
   "file_extension": ".py",
   "mimetype": "text/x-python",
   "name": "python",
   "nbconvert_exporter": "python",
   "pygments_lexer": "ipython3",
   "version": "3.12.4"
  }
 },
 "nbformat": 4,
 "nbformat_minor": 5
}
