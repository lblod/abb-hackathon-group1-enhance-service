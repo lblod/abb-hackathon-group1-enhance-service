{
 "cells": [
  {
   "cell_type": "code",
   "execution_count": 26,
   "id": "04d47bf3-863e-40e1-bdbf-0de94206d9c0",
   "metadata": {},
   "outputs": [],
   "source": [
    "import requests\n",
    "import pprint \n",
    "\n",
    "def get_heritage_object(heritage_object_id):\n",
    "    headers = {'Accept': 'application/json'}\n",
    "    r = requests.get(url='https://inventaris.onroerenderfgoed.be/erfgoedobjecten/' + str(heritage_object_id), headers=headers)\n",
    "    return r"
   ]
  },
  {
   "cell_type": "code",
   "execution_count": 6,
   "id": "25e08a22-b9ed-4c71-8d15-5794494f365f",
   "metadata": {},
   "outputs": [],
   "source": [
    "heritage_obj = get_heritage_object(38746).json()"
   ]
  },
  {
   "cell_type": "code",
   "execution_count": 43,
   "id": "f0a13758-4ccb-483c-a78f-fdac8d76dbc5",
   "metadata": {},
   "outputs": [
    {
     "data": {
      "text/plain": [
       "[Relation(object_type='Vastgesteld bouwkundig erfgoed', relation_type='Is aangeduid als', naam='aanduidingsobjecten', uri='https://id.erfgoed.net/aanduidingsobjecten/143969'),\n",
       " Relation(object_type='Vastgesteld bouwkundig erfgoed', relation_type='Is aangeduid als', naam='aanduidingsobjecten', uri='https://id.erfgoed.net/aanduidingsobjecten/68137'),\n",
       " Relation(object_type='Beschermd cultuurhistorisch landschap', relation_type='Is deel van de aanduiding als', naam='aanduidingsobjecten', uri='https://id.erfgoed.net/aanduidingsobjecten/9912')]"
      ]
     },
     "execution_count": 43,
     "metadata": {},
     "output_type": "execute_result"
    }
   ],
   "source": [
    "from dataclasses import dataclass\n",
    "\n",
    "\n",
    "@dataclass\n",
    "class Relation:\n",
    "    object_type: str\n",
    "    relation_type: str\n",
    "    naam: str\n",
    "    uri: str\n",
    "    \n",
    "\n",
    "def extract_active_relation():\n",
    "    relevant_relations = []\n",
    "    for relation in heritage_obj.get(\"relaties\", []):\n",
    "        if relation.get(\"verwant_status\", {}).get(\"naam\", None) != \"Actief\":\n",
    "            continue\n",
    "\n",
    "        if relation.get(\"aanduidingsobjecttype\", None) == None:\n",
    "            continue\n",
    "        \n",
    "\n",
    "\n",
    "        relevant_relations.append(Relation(\n",
    "            naam=relation.get(\"verwant\", {}).get(\"naam\"),\n",
    "            relation_type=relation.get(\"relatietype\", {}).get(\"naam\"),\n",
    "            object_type=relation.get(\"aanduidingsobjecttype\"),\n",
    "            uri=relation.get(\"uri\")\n",
    "        ))\n",
    "\n",
    "    return relevant_relations\n",
    "\n",
    "extract_active_relation()"
   ]
  },
  {
   "cell_type": "code",
   "execution_count": 48,
   "id": "70e5bcea-1eb8-48e9-8d9d-ff88333180ea",
   "metadata": {},
   "outputs": [],
   "source": [
    "def check_maintenance_plan(heritage_object_id):\n",
    "    r = requests.get(url='https://plannen.onroerenderfgoed.be/plannen?aanduidingsobject=https://id.erfgoed.net/aanduidingsobjecten/' + str(heritage_object_id),)\n",
    "    return r"
   ]
  },
  {
   "cell_type": "code",
   "execution_count": 52,
   "id": "9ca9fecf-c272-4881-8976-224cdf5a479d",
   "metadata": {},
   "outputs": [
    {
     "data": {
      "text/plain": [
       "[]"
      ]
     },
     "execution_count": 52,
     "metadata": {},
     "output_type": "execute_result"
    }
   ],
   "source": [
    "check_maintenance_plan(38746).json()"
   ]
  },
  {
   "cell_type": "code",
   "execution_count": null,
   "id": "c36442a8-6481-4731-bee7-ef5a69ad9453",
   "metadata": {},
   "outputs": [],
   "source": [
    "def get_maintenance_plan(maintenance_uri):\n",
    "    headers = {'Accept': 'application/json'}\n",
    "    r = requests.get(url= maintenance_uri, header=headers)\n",
    "    return r"
   ]
  },
  {
   "cell_type": "code",
   "execution_count": 56,
   "id": "a74bcd60-1465-4cf7-be19-fea8f423b72a",
   "metadata": {},
   "outputs": [],
   "source": [
    "def get_designation_object(designation_object):\n",
    "    headers = {'Accept': 'application/json'}\n",
    "    r = requests.get(url=designation_object, headers=headers)\n",
    "    return r\n",
    "\n",
    "besluit_uris = [b.get(\"uri\") for b in get_designation_object(\"https://id.erfgoed.net/aanduidingsobjecten/68137\").json().get(\"besluiten\", [])]"
   ]
  },
  {
   "cell_type": "code",
   "execution_count": 57,
   "id": "cfb9400c-faa3-4673-a42d-94770b55e29e",
   "metadata": {},
   "outputs": [
    {
     "data": {
      "text/plain": [
       "['https://id.erfgoed.net/besluiten/5825']"
      ]
     },
     "execution_count": 57,
     "metadata": {},
     "output_type": "execute_result"
    }
   ],
   "source": [
    "besluit_uris"
   ]
  },
  {
   "cell_type": "code",
   "execution_count": null,
   "id": "3bc6147e-08e5-4dfd-8d20-0ce9f7d5902f",
   "metadata": {},
   "outputs": [],
   "source": []
  }
 ],
 "metadata": {
  "kernelspec": {
   "display_name": "Python 3 (ipykernel)",
   "language": "python",
   "name": "python3"
  },
  "language_info": {
   "codemirror_mode": {
    "name": "ipython",
    "version": 3
   },
   "file_extension": ".py",
   "mimetype": "text/x-python",
   "name": "python",
   "nbconvert_exporter": "python",
   "pygments_lexer": "ipython3",
   "version": "3.12.4"
  }
 },
 "nbformat": 4,
 "nbformat_minor": 5
}
